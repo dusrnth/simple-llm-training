{
 "cells": [
  {
   "cell_type": "markdown",
   "source": [
    "# Sentiment Analysis with LLM\n",
    "\n",
    "## 1. 개발 환경 설정\n",
    "### 1.1 필요한 라이브러리 설치\n",
    "!pip install transformers torch\n",
    "\n",
    "## 2. 데이터 준비\n",
    "### 2.1 데이터 다운로드 또는 생성\n",
    "# data/ 디렉토리에 positive.txt와 negative.txt 파일 생성\n",
    "\n",
    "## 3. 데이터 전처리\n",
    "### 3.1 데이터 로딩 및 토큰화"
   ],
   "metadata": {
    "collapsed": false
   },
   "id": "2571279308f4e905"
  },
  {
   "cell_type": "code",
   "outputs": [],
   "source": [
    "from src.data_preprocessing import preprocess_data\n",
    "from transformers import AutoTokenizer\n",
    "\n",
    "tokenizer = AutoTokenizer.from_pretrained('distilbert-base-uncased')\n",
    "input_ids, attention_masks, labels = preprocess_data('data/positive.txt', 'data/negative.txt', tokenizer)"
   ],
   "metadata": {
    "collapsed": false
   },
   "id": "d895ac3a275f3946"
  },
  {
   "cell_type": "markdown",
   "source": [
    "## 4. 모델 선택 및 로딩"
   ],
   "metadata": {
    "collapsed": false
   },
   "id": "f5deaa16db002aa4"
  },
  {
   "cell_type": "code",
   "outputs": [],
   "source": [
    "from transformers import AutoModelForSequenceClassification\n",
    "\n",
    "model = AutoModelForSequenceClassification.from_pretrained('distilbert-base-uncased', num_labels=2)"
   ],
   "metadata": {
    "collapsed": false
   },
   "id": "a2d235989551202a"
  },
  {
   "cell_type": "markdown",
   "source": [
    "## 5. 모델 훈련"
   ],
   "metadata": {
    "collapsed": false
   },
   "id": "a77c3563f78808fc"
  },
  {
   "cell_type": "code",
   "outputs": [],
   "source": [
    "from src.model_training import train_model\n",
    "\n",
    "trainer = train_model(model, input_ids, attention_masks, labels)"
   ],
   "metadata": {
    "collapsed": false
   },
   "id": "28a8a4ffa4c48b4b"
  },
  {
   "cell_type": "markdown",
   "source": [
    "## 6. 모델 평가"
   ],
   "metadata": {
    "collapsed": false
   },
   "id": "9b65b2e3313c9151"
  },
  {
   "cell_type": "code",
   "outputs": [],
   "source": [
    "from src.model_evaluation import evaluate_model\n",
    "\n",
    "evaluate_model(trainer)"
   ],
   "metadata": {
    "collapsed": false
   },
   "id": "7033176a732f8c09"
  },
  {
   "cell_type": "markdown",
   "source": [
    "## 7. 모델 저장"
   ],
   "metadata": {
    "collapsed": false
   },
   "id": "5401241bc4cc7388"
  },
  {
   "cell_type": "code",
   "outputs": [],
   "source": [
    "model.save_pretrained('models/fine_tuned_model')"
   ],
   "metadata": {
    "collapsed": false
   },
   "id": "c83cfac94ec60d58"
  },
  {
   "cell_type": "markdown",
   "source": [
    "## 8. 모델 사용"
   ],
   "metadata": {
    "collapsed": false
   },
   "id": "2ba4e58b4f4d5197"
  },
  {
   "cell_type": "code",
   "outputs": [],
   "source": [
    "def predict_sentiment(text, model, tokenizer):\n",
    "    inputs = tokenizer(text, return_tensors='pt')\n",
    "    outputs = model(**inputs)\n",
    "    predicted_class = torch.argmax(outputs.logits).item()\n",
    "    return 'Positive' if predicted_class == 1 else 'Negative'\n",
    "\n",
    "text = \"I really enjoyed this movie!\"\n",
    "sentiment = predict_sentiment(text, model, tokenizer)\n",
    "print(f\"The sentiment of the text is: {sentiment}\")"
   ],
   "metadata": {
    "collapsed": false
   },
   "id": "91e7c94c06eda9e5"
  }
 ],
 "metadata": {
  "kernelspec": {
   "display_name": "Python 3",
   "language": "python",
   "name": "python3"
  },
  "language_info": {
   "codemirror_mode": {
    "name": "ipython",
    "version": 2
   },
   "file_extension": ".py",
   "mimetype": "text/x-python",
   "name": "python",
   "nbconvert_exporter": "python",
   "pygments_lexer": "ipython2",
   "version": "2.7.6"
  }
 },
 "nbformat": 4,
 "nbformat_minor": 5
}
